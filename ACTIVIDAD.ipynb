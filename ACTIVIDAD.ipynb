{
  "nbformat": 4,
  "nbformat_minor": 0,
  "metadata": {
    "colab": {
      "provenance": [],
      "authorship_tag": "ABX9TyMvYXS9Bf1jdIR2e4HRk5c4",
      "include_colab_link": true
    },
    "kernelspec": {
      "name": "python3",
      "display_name": "Python 3"
    },
    "language_info": {
      "name": "python"
    }
  },
  "cells": [
    {
      "cell_type": "markdown",
      "metadata": {
        "id": "view-in-github",
        "colab_type": "text"
      },
      "source": [
        "<a href=\"https://colab.research.google.com/github/n4ncy27/graficadora_de_funciones/blob/main/ACTIVIDAD.ipynb\" target=\"_parent\"><img src=\"https://colab.research.google.com/assets/colab-badge.svg\" alt=\"Open In Colab\"/></a>"
      ]
    },
    {
      "cell_type": "markdown",
      "source": [
        "GRAFICA DE FUNCIONES\n"
      ],
      "metadata": {
        "id": "XsFVsjJFk-VQ"
      }
    },
    {
      "cell_type": "code",
      "source": [
        "# importamos la libreria matplotlib y numpy y le asignamos un alias\n",
        "from logging import log\n",
        "import numpy as np\n",
        "import matplotlib.pyplot as plt "
      ],
      "metadata": {
        "id": "SJQtQiNPdSLR"
      },
      "execution_count": 7,
      "outputs": []
    },
    {
      "cell_type": "code",
      "source": [
        "# Programa para graficar funciones \n",
        "# Número de puntos a graficar\n",
        "\n",
        "# Número de puntos a graficar \n",
        "N = 100\n",
        "\n",
        "print(\"-----------------------------------------\")\n",
        "print(\"_________________________________________\")\n",
        "print(\"-----------Graficador funciones----------\")\n",
        "print(\"_________________________________________\")\n",
        "print(\"-----------------------------------------\")\n",
        "\n",
        "print(\"\\n DIGITA EL NUMERO QUE QUIERES GRAFICAR: \\n\")\n",
        "\n",
        "# Se despliega el menu para seleccionar la opción que deseas realizar:\n",
        "print(\"1. Funcion lineal(y = mx + b) \")\n",
        "print(\"2. Funcion cuadratica(y = ax^2 + bx + c) \")\n",
        "print(\"3. Funcion cubica ( )\")\n",
        "print(\"4. Funcion exponencial () \")\n",
        "print(\"5. Funcion logaritmica \")\n",
        "print(\"6. Funcion trigonometrica \")\n",
        "print(\"7. funcion racionales ()\")\n",
        "print(\"8. funcion algebraica ()\")\n",
        "\n",
        "opcion = int(input(\"\\nDame la opcion: \"))\n",
        "\n",
        "if(opcion==1):\n",
        "  N = 100\n",
        "  def funcion_lineal(m,b,x):\n",
        "    return m*x + b\n",
        "  m = int(input(\"Digite el valor de la pendiente: \"))\n",
        "  b = int(input(\"Digite el valor del punto de corte con el eje y: \"))\n",
        "\n",
        " \n",
        "  x = np.linspace(-10,10,num=N)\n",
        "  y = funcion_lineal(m,b,x)\n",
        "\n",
        "  plt.plot(x,y,color=\"r\")\n",
        "  plt.xlabel(\"x\")\n",
        "  plt.ylabel(\"y\")\n",
        "  plt.title(\"Funcion lineal: y = mx + b\")\n",
        "  plt.grid()\n",
        "  plt.axhline(y=0, color=\"b\")\n",
        "  plt.axvline(x=0, color=\"b\")\n",
        "  plt.show()\n",
        "\n",
        "elif (opcion==2):\n",
        "  N=100\n",
        "  def funcion_cuadratia(a,b,x,c):\n",
        "    return a*x**2 + b*x + c\n",
        "  a = int(input(\"Digite el valor de a : \"))\n",
        "  b = int(input(\"Digite el valor de b: \"))\n",
        "  c = int(input(\"Digite el valor de c: \"))\n",
        "\n",
        "\n",
        " \n",
        "  x = np.linspace(-10,10,num=N)\n",
        "  y = funcion_cuadratia(a,b,x,c)\n",
        "\n",
        "  plt.plot(x,y,color=\"r\")\n",
        "  plt.xlabel(\"x\")\n",
        "  plt.ylabel(\"y\")\n",
        "  plt.title(\"Funcion cuadratica: y = ax^2 + bx + c\")\n",
        "  plt.grid()\n",
        "  plt.axhline(y=0, color=\"b\")\n",
        "  plt.axvline(x=0, color=\"b\")\n",
        "  plt.show()\n",
        "\n",
        "elif(opcion==3):\n",
        "  N=100\n",
        "  def funcion_cuadratia(a,b,x,c,d):\n",
        "    return a*x*3 + b*x*2 + c*x + d\n",
        "  a = int(input(\"Digite el valor de a : \"))\n",
        "  b = int(input(\"Digite el valor de b: \"))\n",
        "  c = int(input(\"Digite el valor de c: \"))\n",
        "  d = int(input(\"Digite el valor de d: \"))\n",
        "\n",
        "\n",
        "  x = np.linspace(-10,10,num=N)\n",
        "  y = funcion_cuadratia(a,b,x,c,d)\n",
        "\n",
        "  plt.plot(x,y,color=\"r\")\n",
        "  plt.xlabel(\"x\")\n",
        "  plt.ylabel(\"y\")\n",
        "  plt.title(\"Funcion cubica: y = ax^3 + bx^2 + cx + d\")\n",
        "  plt.grid()\n",
        "  plt.axhline(y=0, color=\"b\")\n",
        "  plt.axvline(x=0, color=\"b\")\n",
        "  plt.show()\n",
        "\n",
        "elif(opcion==4):\n",
        "  N=100\n",
        "  def funcion_cuadratia(a,x):\n",
        "    return a**x\n",
        "  a = int(input(\"Digite el valor de a : \"))\n",
        "\n",
        "  x = np.linspace(-10,10,num=N)\n",
        "  y = funcion_cuadratia(a,x)\n",
        "\n",
        "  plt.plot(x,y,color=\"r\")\n",
        "  plt.xlabel(\"x\")\n",
        "  plt.ylabel(\"y\")\n",
        "  plt.title(\"Funcion exponencial: y = a^x\")\n",
        "  plt.grid()\n",
        "  plt.axhline(y=0, color=\"b\")\n",
        "  plt.axvline(x=0, color=\"b\")\n",
        "  plt.show()\n",
        "\n",
        "elif (opcion == 5):\n",
        "  N = 100\n",
        "  def funcion_logaritmica(a, b, x):\n",
        "    return np.log(a*x) + b\n",
        "\n",
        "  a = int(input(\"Digite el valor de a: \"))\n",
        "  b = int(input(\"Digite el valor de b: \"))\n",
        "  \n",
        "  # Processing - graphication\n",
        "  x = np.linspace(-10,10,num=N)\n",
        "  y = funcion_logaritmica(a, b, x)\n",
        "  \n",
        "  plt.plot(x,y, color = \"r\")\n",
        "  plt.xlabel(\"x\")\n",
        "  plt.ylabel(\"y\")\n",
        "  plt.title(\"Función Logaritmica: y = ln(ax) + b\")\n",
        "  plt.grid()\n",
        "  plt.axhline(y=0, color=\"b\")\n",
        "  plt.axvline(x=0, color=\"b\")\n",
        "  plt.show()\n",
        "\n",
        "elif (opcion == 6):\n",
        "  N = 100\n",
        "  def funcion_seno(x):\n",
        "    return np.sin(x)\n",
        "  def funcion_cos(x):\n",
        "    return np.cos(x)\n",
        "  def funcion_tan(x):\n",
        "    return np.tan(x)\n",
        "\n",
        "  op = int(input(\"Digite el número de la función que deseas ejecutar :\"))\n",
        "  if op == 1:\n",
        "    # Processing - graphication\n",
        "    x = np.linspace(-10,10,num=N)\n",
        "    y = funcion_seno(x)\n",
        "    \n",
        "    plt.plot(x,y, color = \"r\")\n",
        "    plt.xlabel(\"x\")\n",
        "    plt.ylabel(\"y\")\n",
        "    plt.title(\"Función Seno\")\n",
        "    plt.grid()\n",
        "    plt.axhline(y=0, color=\"b\")\n",
        "    plt.axvline(x=0, color=\"b\")\n",
        "    plt.show()\n",
        "\n"
      ],
      "metadata": {
        "id": "MzLxp2OEY6o7",
        "colab": {
          "base_uri": "https://localhost:8080/",
          "height": 590
        },
        "outputId": "880e433c-b174-42c1-c373-0965e8b1956e"
      },
      "execution_count": 8,
      "outputs": [
        {
          "name": "stdout",
          "output_type": "stream",
          "text": [
            "--------------------------------------------\n",
            "---------GRAFICADOR DE FUNCIONES------------\n",
            "--------------------------------------------\n",
            "\n",
            "Que deseas graficar: \n",
            "\n",
            "1. Funcion lineal(y = mx + b) \n",
            "2. Funcion cuadratica(y = ax^2 + bx + c) \n",
            "3. Funcion cubica \n",
            "4. Funcion exponencial \n",
            "5. Funcion logaritmica \n",
            "6. Funcion trigonometrica \n",
            "\n",
            "Dame la opcion: 2\n",
            "Digite el valor de a : 3\n",
            "Digite el valor de b: 4\n",
            "Digite el valor de c: 5\n"
          ]
        },
        {
          "output_type": "display_data",
          "data": {
            "text/plain": [
              "<Figure size 432x288 with 1 Axes>"
            ],
            "image/png": "[encoded data removed]"
          },
          "metadata": {
            "needs_background": "light"
          }
        }
      ]
    }
  ]
}