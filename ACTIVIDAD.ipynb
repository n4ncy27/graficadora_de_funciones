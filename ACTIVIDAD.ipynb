{
  "nbformat": 4,
  "nbformat_minor": 0,
  "metadata": {
    "colab": {
      "provenance": [],
      "authorship_tag": "ABX9TyOQp1BsW7xVrUhBwneERToh",
      "include_colab_link": true
    },
    "kernelspec": {
      "name": "python3",
      "display_name": "Python 3"
    },
    "language_info": {
      "name": "python"
    }
  },
  "cells": [
    {
      "cell_type": "markdown",
      "metadata": {
        "id": "view-in-github",
        "colab_type": "text"
      },
      "source": [
        "<a href=\"https://colab.research.google.com/github/n4ncy27/graficadora_de_funciones/blob/main/ACTIVIDAD.ipynb\" target=\"_parent\"><img src=\"https://colab.research.google.com/assets/colab-badge.svg\" alt=\"Open In Colab\"/></a>"
      ]
    },
    {
      "cell_type": "markdown",
      "source": [
        "GRAFICA DE FUNCIONES\n"
      ],
      "metadata": {
        "id": "XsFVsjJFk-VQ"
      }
    },
    {
      "cell_type": "code",
      "source": [
        "# importamos la libreria matplotlib y numpy y le asignamos un alias\n",
        "import numpy as np\n",
        "import matplotlib.pyplot as plt "
      ],
      "metadata": {
        "id": "SJQtQiNPdSLR"
      },
      "execution_count": null,
      "outputs": []
    },
    {
      "cell_type": "code",
      "source": [
        "# Programa para graficar funciones \n",
        "# Número de puntos a graficar \n",
        "\n",
        "print(\"-----------------------------------------\")\n",
        "print(\"------- GRAFICA DE VARIAS FUCIONES ------\")\n",
        "print(\"-----------------------------------------\")\n",
        "\n",
        "# input variables \n",
        "m = int(input(\"Digite el valor de la pendiente:\"))\n",
        "b = int(input(\"Digite el valor del punto de corte con el eje y: \"))\n",
        "\n",
        "\n",
        "print(\"\\nDame la opcion que desea realizar: \\n\")\n",
        "#se despliega el menu para seleccionar la opcion que deseas realizar: \n",
        "print(\"1. funcion lineal (y = mx + b)\")\n",
        "print(\"2. Funcion cuagratica (y = ax**2 + bx + c)\")\n",
        "print(\"3. funcion cubica ( y= ax**3 + bx 2 + cx + d )\")\n",
        "print(\"4. funcion exponencial(y = b**x)\")\n",
        "print(\"5. funcion logaritmica (y = ma.log x))\")\n",
        "print(\"6. funcion trigonometrica ()\")\n",
        "print(\"7. funcion racionales ()\")\n",
        "print(\"8. funcion algebraica ()\")\n",
        "\n",
        "opcion = int(input(\"\\nDame la opcion: \"))\n",
        "\n",
        "# Función lineal\n",
        "# Función para calcular los valores de y\n",
        "def funcion_lineal(m,b,x):\n",
        "  return m*x + b\n",
        "\n",
        "#Processing - Graphication\n",
        "x = np.linspace(-10,10,num=N)\n",
        "y = funcion_lineal(m,b,x)\n",
        "\n",
        "plt.plot(x,y, color=\"r\")\n",
        "plt.xlabel(\"x\")\n",
        "plt.ylabel(\"y\")\n",
        "plt.title(\"Función lineal: y = mx + b \")\n",
        "plt.grid()\n",
        "plt.axhline(y=0, color=\"b\")\n",
        "plt.axvline(x=0, color=\"b\")\n",
        "plt.show()\n",
        "\n"
      ],
      "metadata": {
        "id": "MzLxp2OEY6o7"
      },
      "execution_count": null,
      "outputs": []
    }
  ]
}